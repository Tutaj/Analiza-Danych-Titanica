{
 "cells": [
  {
   "cell_type": "code",
   "execution_count": 1,
   "id": "494f5156",
   "metadata": {},
   "outputs": [
    {
     "data": {
      "text/plain": [
       "'Zapoznaj się z danymi dotyczącymi ofiar katastrofy Titanica (które można pobrać z serwisu Kaggle\\n: https://www.kaggle.com/c/titanic/data). \\nW oparciu o artykuł zawarty na stronie: https://stackabuse.com/pandas-library-for-data-visualization-in-python/ \\nwykonaj analizę pliku z danymi. Przedstaw dane w postaci tabeli, sporządź histogram wieku ofiar, odpowiedz na pytanie - \\nco mogło mieć wpływ na przeżycie pasażerów (płeć, wiek, status społeczny na podstawie klasy biletu). \\nNastępnie utwórz program z interfejsem konsolowym (CLI) do eksploracji wczytanego pliku w danymi \\n(program powinien posiadać instrukcje do wyświetlania wybranych charakterystyk i wartości opisujących wskazany zbiór danych. \\nDodatkowe funkcjonalności programu oraz zaawansowane mechanizmy (funkcje, klasy), sporządzenie opisu/dokumentacji \\nzwiększają ocenę za realizację projektu.\\n'"
      ]
     },
     "execution_count": 1,
     "metadata": {},
     "output_type": "execute_result"
    }
   ],
   "source": [
    "\"\"\"Zapoznaj się z danymi dotyczącymi ofiar katastrofy Titanica (które można pobrać z serwisu Kaggle\n",
    ": https://www.kaggle.com/c/titanic/data). \n",
    "W oparciu o artykuł zawarty na stronie: https://stackabuse.com/pandas-library-for-data-visualization-in-python/ \n",
    "wykonaj analizę pliku z danymi. Przedstaw dane w postaci tabeli, sporządź histogram wieku ofiar, odpowiedz na pytanie - \n",
    "co mogło mieć wpływ na przeżycie pasażerów (płeć, wiek, status społeczny na podstawie klasy biletu). \n",
    "Następnie utwórz program z interfejsem konsolowym (CLI) do eksploracji wczytanego pliku w danymi \n",
    "(program powinien posiadać instrukcje do wyświetlania wybranych charakterystyk i wartości opisujących wskazany zbiór danych. \n",
    "Dodatkowe funkcjonalności programu oraz zaawansowane mechanizmy (funkcje, klasy), sporządzenie opisu/dokumentacji \n",
    "zwiększają ocenę za realizację projektu.\n",
    "\"\"\""
   ]
  },
  {
   "cell_type": "code",
   "execution_count": 2,
   "id": "c5ce8549",
   "metadata": {},
   "outputs": [],
   "source": [
    "import pandas as pd\n",
    "import numpy as np\n",
    "import matplotlib.pyplot as plt\n",
    "from sklearn.linear_model import LogisticRegression\n",
    "from sklearn.model_selection import train_test_split\n",
    "from sklearn.preprocessing import StandardScaler\n",
    "import seaborn as sns\n",
    "#Tu wczytuje dane i łącze w jedną tabelę ponieważ później będę zmieniał sposób zapisania,\n",
    "###a nie mam zamiaru zmieniać ich w obu tabelach:) \n",
    "test = pd.read_csv('test.csv')\n",
    "test_labels = pd.read_csv('gender_submission.csv')\n",
    "train = pd.read_csv('train.csv')\n",
    "test['Survived'] = [x for x in test_labels['Survived']]\n",
    "passengers = pd.concat([train, test]).reset_index()\n",
    "passengers  = passengers[['PassengerId','Survived','Pclass','Name','Sex','Age','SibSp','Parch','Ticket','Fare','Cabin','Embarked']]\n",
    "#Przedstaw dane w postaci tabeli\n",
    "#display(passengers)\n",
    "\n",
    "\n"
   ]
  },
  {
   "cell_type": "code",
   "execution_count": 3,
   "id": "c059b393",
   "metadata": {},
   "outputs": [],
   "source": [
    "#histogram wieku ofiar\n",
    "def tabela():\n",
    "    not_survived = passengers[passengers.Survived == 0].reset_index()\n",
    "    bins = range(0, int(max((not_survived.Age))), 2)\n",
    "    sns.histplot(data = not_survived, x = 'Age', bins = bins, color = 'lightblue')\n",
    "    plt.show()\n",
    "    print(f\"Widać że najwięcej ofiar było z wieku 18-30, co jest zrozumiałe patrząc na to że średni wiek pasażerów to {np.mean(passengers.Age)}\")"
   ]
  },
  {
   "cell_type": "code",
   "execution_count": 4,
   "id": "7529db2f",
   "metadata": {},
   "outputs": [
    {
     "name": "stdout",
     "output_type": "stream",
     "text": [
      "   PassengerId  Survived  Pclass  \\\n",
      "0            1         0       3   \n",
      "1            2         1       1   \n",
      "2            3         1       3   \n",
      "3            4         1       1   \n",
      "4            5         0       3   \n",
      "\n",
      "                                                Name Sex   Age  SibSp  Parch  \\\n",
      "0                            Braund, Mr. Owen Harris   0  22.0      1      0   \n",
      "1  Cumings, Mrs. John Bradley (Florence Briggs Th...   1  38.0      1      0   \n",
      "2                             Heikkinen, Miss. Laina   1  26.0      0      0   \n",
      "3       Futrelle, Mrs. Jacques Heath (Lily May Peel)   1  35.0      1      0   \n",
      "4                           Allen, Mr. William Henry   0  35.0      0      0   \n",
      "\n",
      "             Ticket     Fare Cabin Embarked  \n",
      "0         A/5 21171   7.2500   NaN        S  \n",
      "1          PC 17599  71.2833   C85        C  \n",
      "2  STON/O2. 3101282   7.9250   NaN        S  \n",
      "3            113803  53.1000  C123        S  \n",
      "4            373450   8.0500   NaN        S  \n"
     ]
    }
   ],
   "source": [
    "#Zmianiam kolumne Sex na 0/1 po to żeby algorytm miał prościej przeprocesować te daane. Podobna sprawa z tworzeniem nowych kolumn niżej.\n",
    "passengers['Sex'] = passengers['Sex'].map({\"male\": \"0\", \"female\": \"1\"})\n",
    "print(passengers.head())\n",
    "passengers['FirstClass'] = passengers['Pclass'].apply(lambda x: 1 if x==1 else 0)\n",
    "#print(passengers.FirstClass)\n",
    "\n",
    "passengers['SecondClass'] = passengers['Pclass'].apply(lambda x: 1 if x==2 else 0)\n",
    "#print(passengers.SecondClass)\n",
    "\n",
    "#Zmianiam wszystkie nan na średnią wieku\n",
    "passengers['Age'] = passengers['Age'].fillna(passengers.Age.mean())\n",
    "passengers['Parch'] = passengers['Parch'].fillna(0)\n",
    "passengers['SibSp'] = passengers['SibSp'].fillna(0)\n",
    "#print(passengers['Age'].value_counts(dropna = False)) ## do sprawdzenia czy zadziałało\n",
    "\n"
   ]
  },
  {
   "cell_type": "code",
   "execution_count": 11,
   "id": "c1e1764d",
   "metadata": {},
   "outputs": [
    {
     "name": "stdout",
     "output_type": "stream",
     "text": [
      "  Sex   Age  FirstClass  SecondClass  Parch  SibSp\n",
      "0   0  22.0           0            0      0      1\n",
      "1   1  38.0           1            0      0      1\n",
      "2   1  26.0           0            0      0      0\n",
      "3   1  35.0           1            0      0      1\n",
      "4   0  35.0           0            0      0      0\n",
      "1309\n"
     ]
    }
   ],
   "source": [
    "#dziele na cele i dane do ml algorytmu\n",
    "features = passengers[['Sex','Age','FirstClass', 'SecondClass','Parch','SibSp']]\n",
    "survival = passengers.Survived\n",
    "print(features.head())\n",
    "print(features.Age.count())\n"
   ]
  },
  {
   "cell_type": "code",
   "execution_count": 6,
   "id": "1f6b049c",
   "metadata": {},
   "outputs": [
    {
     "name": "stdout",
     "output_type": "stream",
     "text": [
      "0.8893129770992366\n"
     ]
    }
   ],
   "source": [
    "#skalowanie i ml algorytm\n",
    "train_features, test_features, train_survival, test_survival = train_test_split(features, survival, test_size=0.2, random_state=40)\n",
    "\n",
    "scaler = StandardScaler()\n",
    "train_features = scaler.fit_transform(train_features)\n",
    "test_features = scaler.transform(test_features)\n",
    "\n",
    "model = LogisticRegression()\n",
    "model.fit(train_features, train_survival)\n",
    "#accuracy modelu\n",
    "print(model.score(test_features, test_survival))"
   ]
  },
  {
   "cell_type": "code",
   "execution_count": 7,
   "id": "d274d54d",
   "metadata": {},
   "outputs": [
    {
     "name": "stdout",
     "output_type": "stream",
     "text": [
      "0\n"
     ]
    }
   ],
   "source": [
    "#Jaka dana miała największy wpływ?\n",
    "wspolczynniki = list(model.coef_[0])\n",
    "wspol_labels = ['Sex','Age','FirstClass','SecondClass','Parch','SibSp']\n",
    "wspol_razem = list(zip(['Sex','Age','FirstClass','SecondClass','Parch','SibSp'],model.coef_[0]))\n",
    "max_wsp = max(wspolczynniki)\n",
    "max_wsp_index = wspolczynniki.index(max_wsp)\n",
    "print(max_wsp_index)"
   ]
  },
  {
   "cell_type": "code",
   "execution_count": 8,
   "id": "8fe04248",
   "metadata": {},
   "outputs": [],
   "source": [
    "def predict():\n",
    "    print(\"Podaj dane o które zostaniesz poproszony na ekranie.\")\n",
    "    dane = np.array([float(input(\"Podaj płeć biologiczną(0 = mężczyzna, 1 = kobieta): \")),\n",
    "                    float(input(\"Podaj wiek w latach: \")),\n",
    "                    float(input(\"Płynąłbyś pierwszą czy drugą klasą(zgadując znając siebie)? 1 - Pierwsza klasa, 0 - Druga klasa: \")),\n",
    "                    float(input(\"Ilość dzieci/rodziców płynących razem statkiem z Tobą(zgadując znając siebie):  \")),\n",
    "                    float(input(\"Ilość rodzeństwa/małżonków płynących razem statkiem z Tobą(zgadując znając siebie): \"))])\n",
    "    dane = [np.insert(dane,3,0.0) if dane[2] == 1.0 else np.insert(dane,3,1.0)]\n",
    "    skalowane_dane = scaler.transform(dane)\n",
    "    proba = model.predict_proba(skalowane_dane)\n",
    "    proba = str(proba)\n",
    "    proba = proba.replace('[','').replace(']','').split(' ')\n",
    "    proba = float(proba[1])\n",
    "    if model.predict(skalowane_dane) == 1:\n",
    "        print(f\"Wooow! Przeżyjesz i masz na to {proba*100}%!\")\n",
    "    else:\n",
    "        print(f\"Szanse nie są po Twojej stronie aczkolwiek dalej masz szansę, która wynosi aż {proba*100}%!\")\n",
    "        "
   ]
  },
  {
   "cell_type": "code",
   "execution_count": 9,
   "id": "bf05937f",
   "metadata": {},
   "outputs": [
    {
     "name": "stdout",
     "output_type": "stream",
     "text": [
      "\n",
      "\n",
      "1.Wyświetl zbiór danych.\n",
      "2.Wyświetl histogram wieku ofiar.\n",
      "3.Wyświetl co miało największy wpływ na to kto przeżył i jego wartość współczynnika.\n",
      "4.Wyświetl wszystkie współczynniki użyte wraz z wartościami.\n",
      "5.Wprowadź swoje dane i sprawdź czy przeżyłbyś na titanicu.\n",
      "6.Zakończ działanie programu.\n",
      "2\n"
     ]
    },
    {
     "data": {
      "image/png": "[encoded data removed]",
      "text/plain": [
       "<Figure size 432x288 with 1 Axes>"
      ]
     },
     "metadata": {
      "needs_background": "light"
     },
     "output_type": "display_data"
    },
    {
     "name": "stdout",
     "output_type": "stream",
     "text": [
      "Widać że najwięcej ofiar było z wieku 18-30, co jest zrozumiałe patrząc na to że średni wiek pasażerów to 29.881137667303985\n",
      "\n",
      "\n",
      "1.Wyświetl zbiór danych.\n",
      "2.Wyświetl histogram wieku ofiar.\n",
      "3.Wyświetl co miało największy wpływ na to kto przeżył i jego wartość współczynnika.\n",
      "4.Wyświetl wszystkie współczynniki użyte wraz z wartościami.\n",
      "5.Wprowadź swoje dane i sprawdź czy przeżyłbyś na titanicu.\n",
      "6.Zakończ działanie programu.\n",
      "2\n"
     ]
    },
    {
     "data": {
      "image/png": "[encoded data removed]",
      "text/plain": [
       "<Figure size 432x288 with 1 Axes>"
      ]
     },
     "metadata": {
      "needs_background": "light"
     },
     "output_type": "display_data"
    },
    {
     "name": "stdout",
     "output_type": "stream",
     "text": [
      "Widać że najwięcej ofiar było z wieku 18-30, co jest zrozumiałe patrząc na to że średni wiek pasażerów to 29.881137667303985\n",
      "\n",
      "\n",
      "1.Wyświetl zbiór danych.\n",
      "2.Wyświetl histogram wieku ofiar.\n",
      "3.Wyświetl co miało największy wpływ na to kto przeżył i jego wartość współczynnika.\n",
      "4.Wyświetl wszystkie współczynniki użyte wraz z wartościami.\n",
      "5.Wprowadź swoje dane i sprawdź czy przeżyłbyś na titanicu.\n",
      "6.Zakończ działanie programu.\n",
      "2\n"
     ]
    },
    {
     "data": {
      "image/png": "[encoded data removed]",
      "text/plain": [
       "<Figure size 432x288 with 1 Axes>"
      ]
     },
     "metadata": {
      "needs_background": "light"
     },
     "output_type": "display_data"
    },
    {
     "name": "stdout",
     "output_type": "stream",
     "text": [
      "Widać że najwięcej ofiar było z wieku 18-30, co jest zrozumiałe patrząc na to że średni wiek pasażerów to 29.881137667303985\n",
      "\n",
      "\n",
      "1.Wyświetl zbiór danych.\n",
      "2.Wyświetl histogram wieku ofiar.\n",
      "3.Wyświetl co miało największy wpływ na to kto przeżył i jego wartość współczynnika.\n",
      "4.Wyświetl wszystkie współczynniki użyte wraz z wartościami.\n",
      "5.Wprowadź swoje dane i sprawdź czy przeżyłbyś na titanicu.\n",
      "6.Zakończ działanie programu.\n",
      "2\n"
     ]
    },
    {
     "data": {
      "image/png": "[encoded data removed]",
      "text/plain": [
       "<Figure size 432x288 with 1 Axes>"
      ]
     },
     "metadata": {
      "needs_background": "light"
     },
     "output_type": "display_data"
    },
    {
     "name": "stdout",
     "output_type": "stream",
     "text": [
      "Widać że najwięcej ofiar było z wieku 18-30, co jest zrozumiałe patrząc na to że średni wiek pasażerów to 29.881137667303985\n",
      "\n",
      "\n",
      "1.Wyświetl zbiór danych.\n",
      "2.Wyświetl histogram wieku ofiar.\n",
      "3.Wyświetl co miało największy wpływ na to kto przeżył i jego wartość współczynnika.\n",
      "4.Wyświetl wszystkie współczynniki użyte wraz z wartościami.\n",
      "5.Wprowadź swoje dane i sprawdź czy przeżyłbyś na titanicu.\n",
      "6.Zakończ działanie programu.\n",
      "2\n"
     ]
    },
    {
     "data": {
      "image/png": "[encoded data removed]",
      "text/plain": [
       "<Figure size 432x288 with 1 Axes>"
      ]
     },
     "metadata": {
      "needs_background": "light"
     },
     "output_type": "display_data"
    },
    {
     "name": "stdout",
     "output_type": "stream",
     "text": [
      "Widać że najwięcej ofiar było z wieku 18-30, co jest zrozumiałe patrząc na to że średni wiek pasażerów to 29.881137667303985\n",
      "\n",
      "\n",
      "1.Wyświetl zbiór danych.\n",
      "2.Wyświetl histogram wieku ofiar.\n",
      "3.Wyświetl co miało największy wpływ na to kto przeżył i jego wartość współczynnika.\n",
      "4.Wyświetl wszystkie współczynniki użyte wraz z wartościami.\n",
      "5.Wprowadź swoje dane i sprawdź czy przeżyłbyś na titanicu.\n",
      "6.Zakończ działanie programu.\n",
      "6\n",
      "Dziękuję za skorzystanie z programu!\n",
      "Praca wykonana przez Oskara Tutaj :)\n"
     ]
    }
   ],
   "source": [
    "while True:\n",
    "    print(\"\\n\")\n",
    "    print(f\"\"\"1.Wyświetl zbiór danych.\n",
    "2.Wyświetl histogram wieku ofiar.\n",
    "3.Wyświetl co miało największy wpływ na to kto przeżył i jego wartość współczynnika.\n",
    "4.Wyświetl wszystkie współczynniki użyte wraz z wartościami.\n",
    "5.Wprowadź swoje dane i sprawdź czy przeżyłbyś na titanicu.\n",
    "6.Zakończ działanie programu.\"\"\")\n",
    "    x = int(input())\n",
    "    if x == 1:\n",
    "        display(passengers)\n",
    "    elif x ==2:\n",
    "        tabela()\n",
    "    elif x ==3:\n",
    "        print(f\"Największy wpływ miał współczynnik {wspol_labels[max_wsp_index]} o wartości {max_wsp}\")\n",
    "        print(\"Moją hipotęzą dlaczego tak jest to że zawsze dzieci i kobiety pierwszeństwo mają w takich katastrofach co by się zgadzało z tym że kobiety mają średnio dużo większe szanse.\")\n",
    "    elif x ==4:\n",
    "        print(wspol_razem)\n",
    "    elif x ==5:\n",
    "        predict()\n",
    "    elif x ==6:\n",
    "        print(\"Dziękuję za skorzystanie z programu!\\nPraca wykonana przez Oskara Tutaj :)\")\n",
    "        break\n",
    "        "
   ]
  },
  {
   "cell_type": "code",
   "execution_count": null,
   "id": "30cf0bdd",
   "metadata": {},
   "outputs": [],
   "source": []
  }
 ],
 "metadata": {
  "kernelspec": {
   "display_name": "Python 3 (ipykernel)",
   "language": "python",
   "name": "python3"
  },
  "language_info": {
   "codemirror_mode": {
    "name": "ipython",
    "version": 3
   },
   "file_extension": ".py",
   "mimetype": "text/x-python",
   "name": "python",
   "nbconvert_exporter": "python",
   "pygments_lexer": "ipython3",
   "version": "3.9.7"
  }
 },
 "nbformat": 4,
 "nbformat_minor": 5
}
